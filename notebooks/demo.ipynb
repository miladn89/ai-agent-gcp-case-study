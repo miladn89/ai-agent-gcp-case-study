{
 "cells": [
  {
   "cell_type": "markdown",
   "id": "1a75ebb8",
   "metadata": {},
   "source": [
    "# 📘 Demo Notebook: AI Agent on GCP"
   ]
  },
  {
   "cell_type": "markdown",
   "id": "0bce49a8",
   "metadata": {},
   "source": [
    "\n",
    "This notebook demonstrates the **data preparation**, **entity extraction**, and **summarization** workflow for the case study project.\n",
    "\n",
    "Make sure you have:\n",
    "- Enabled GCP services (Cloud Storage, BigQuery, Vertex AI, Cloud NLP).\n",
    "- Set your service account credentials:\n",
    "```bash\n",
    "export GOOGLE_APPLICATION_CREDENTIALS=\"path/to/key.json\"\n",
    "```\n"
   ]
  },
  {
   "cell_type": "code",
   "execution_count": null,
   "id": "fa951408",
   "metadata": {},
   "outputs": [],
   "source": [
    "# Install dependencies (uncomment if needed)\n",
    "# !pip install -r ../requirements.txt"
   ]
  },
  {
   "cell_type": "code",
   "execution_count": null,
   "id": "3601f144",
   "metadata": {},
   "outputs": [],
   "source": [
    "# Load sample dataset\n",
    "import json\n",
    "\n",
    "with open(\"../data/raw_docs.json\", \"r\") as f:\n",
    "    docs = json.load(f)\n",
    "\n",
    "print(\"Sample documents:\")\n",
    "for d in docs:\n",
    "    print(f\"ID: {d['id']} | Text: {d['text']}\")"
   ]
  },
  {
   "cell_type": "code",
   "execution_count": null,
   "id": "1db1cf32",
   "metadata": {},
   "outputs": [],
   "source": [
    "# Run data preparation script\n",
    "!python ../src/data_prep.py --input ../data/raw_docs.json --output ../data/cleaned_docs.json"
   ]
  },
  {
   "cell_type": "code",
   "execution_count": null,
   "id": "83042dc1",
   "metadata": {},
   "outputs": [],
   "source": [
    "# Run entity extraction + summarization (replace YOUR_PROJECT_ID)\n",
    "!python ../src/extract_and_summarize.py --input ../data/cleaned_docs.json --output ../data/results.json --project YOUR_PROJECT_ID"
   ]
  },
  {
   "cell_type": "code",
   "execution_count": null,
   "id": "59510f01",
   "metadata": {},
   "outputs": [],
   "source": [
    "# Display results\n",
    "with open(\"../data/results.json\", \"r\") as f:\n",
    "    results = json.load(f)\n",
    "\n",
    "for r in results:\n",
    "    print(f\"Doc ID: {r['id']}\")\n",
    "    print(\"Entities:\", r['entities'])\n",
    "    print(\"Summary:\", r['summary'])\n",
    "    print(\"-\"*50)"
   ]
  },
  {
   "cell_type": "code",
   "execution_count": null,
   "id": "230760b2",
   "metadata": {},
   "outputs": [],
   "source": [
    "# Run Agent Workflow (replace YOUR_PROJECT_ID)\n",
    "!python ../src/agent_workflow.py --query \"Summarize customer complaints about battery life\" --project YOUR_PROJECT_ID"
   ]
  }
 ],
 "metadata": {},
 "nbformat": 4,
 "nbformat_minor": 5
}
